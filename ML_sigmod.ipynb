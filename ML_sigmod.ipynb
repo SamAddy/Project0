{
  "nbformat": 4,
  "nbformat_minor": 0,
  "metadata": {
    "colab": {
      "name": " ML sigmod",
      "provenance": [],
      "authorship_tag": "ABX9TyMkWPsSl9pMI8mUF1p2MzeR",
      "include_colab_link": true
    },
    "kernelspec": {
      "name": "python3",
      "display_name": "Python 3"
    }
  },
  "cells": [
    {
      "cell_type": "markdown",
      "metadata": {
        "id": "view-in-github",
        "colab_type": "text"
      },
      "source": [
        "<a href=\"https://colab.research.google.com/github/SamAddy/Project0/blob/master/ML_sigmod.ipynb\" target=\"_parent\"><img src=\"https://colab.research.google.com/assets/colab-badge.svg\" alt=\"Open In Colab\"/></a>"
      ]
    },
    {
      "cell_type": "code",
      "metadata": {
        "id": "k9LK0eWM9CZt",
        "outputId": "9b437b0f-50dd-49dd-9c41-938d524962e0",
        "colab": {
          "base_uri": "https://localhost:8080/"
        }
      },
      "source": [
        "#Kim book ch 2\n",
        "\n",
        "\n",
        "#sigmoid function\n",
        "import numpy as np\n",
        "\n",
        "\n",
        "def Sigmoid(x):\n",
        "    return 1.0 / (1.0 + np.exp(-x))\n",
        "\n",
        "\n",
        "#DeltaSGD\n",
        "\n",
        "def DeltaSGD(W, X, D):\n",
        "    alpha = 0.9\n",
        "    \n",
        "    N = 4\n",
        "    for k in range(N):\n",
        "        x = X[k, :].T\n",
        "        d = D[k]\n",
        "    \n",
        "        v = np.matmul(W, x)\n",
        "        y = Sigmoid(v)\n",
        "        \n",
        "        e     = d - y\n",
        "        delta = y*(1-y) * e\n",
        "        \n",
        "        dW = alpha*delta*x\n",
        "        \n",
        "        W[0][0] = W[0][0] + dW[0]\n",
        "        W[0][1] = W[0][1] + dW[1]\n",
        "        W[0][2] = W[0][2] + dW[2]\n",
        "        \n",
        "    return W\n",
        "\n",
        "\n",
        "#TestDeltaSGD\n",
        "\n",
        "def TestDeltaSGD():\n",
        "    X = np.array([[0, 0, 1],\n",
        "                  [0, 1, 1],\n",
        "                  [1, 0, 1],\n",
        "                  [1, 1, 1]])\n",
        "    \n",
        "    D = np.array([[0],\n",
        "                  [0],\n",
        "                  [1],\n",
        "                  [1]])\n",
        "        \n",
        "    W = 2*np.random.random((1, 3)) - 1\n",
        "        \n",
        "    for _epoch in range(10000):\n",
        "        W = DeltaSGD(W, X, D)\n",
        "                \n",
        "    N = 4\n",
        "    for k in range(N):\n",
        "        x = X[k,:].T\n",
        "        v = np.matmul(W, x)\n",
        "        y = Sigmoid(v)\n",
        "        print(y)\n",
        "\n",
        "if __name__ == '__main__':\n",
        "    TestDeltaSGD()"
      ],
      "execution_count": null,
      "outputs": [
        {
          "output_type": "stream",
          "text": [
            "[0.01020205]\n",
            "[0.00829554]\n",
            "[0.99324104]\n",
            "[0.99168472]\n"
          ],
          "name": "stdout"
        }
      ]
    }
  ]
}